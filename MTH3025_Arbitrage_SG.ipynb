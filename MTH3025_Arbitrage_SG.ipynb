{
  "nbformat": 4,
  "nbformat_minor": 0,
  "metadata": {
    "colab": {
      "provenance": []
    },
    "kernelspec": {
      "name": "python3",
      "display_name": "Python 3"
    },
    "language_info": {
      "name": "python"
    }
  },
  "cells": [
    {
      "cell_type": "markdown",
      "source": [
        "### **Currency Trading Strategy**"
      ],
      "metadata": {
        "id": "69gd7bP5Jjqf"
      }
    },
    {
      "cell_type": "code",
      "source": [
        "import math\n",
        "import networkx as nx\n",
        "\n",
        "##Define currencies and exchange rates.\n",
        "rates = {\n",
        "    (\"GBP\", \"EUR\"): 1.1989,\n",
        "    (\"GBP\", \"USD\"): 1.2829,\n",
        "    (\"GBP\", \"CAD\"): 1.7008,\n",
        "    (\"EUR\", \"GBP\"): 0.8341,\n",
        "    (\"EUR\", \"USD\"): 1.0373,\n",
        "    (\"EUR\", \"CAD\"): 1.4185,\n",
        "    (\"USD\", \"GBP\"): 0.7795,\n",
        "    (\"USD\", \"EUR\"): 0.9640,\n",
        "    (\"USD\", \"CAD\"): 1.3673,\n",
        "    (\"CAD\", \"GBP\"): 0.5880,\n",
        "    (\"CAD\", \"EUR\"): 0.7050,\n",
        "    (\"CAD\", \"USD\"): 0.7314\n",
        "}\n",
        "\n",
        "##Build a graph\n",
        "G = nx.DiGraph()\n",
        "for (src, dst), rate in rates.items():\n",
        "    weight = -math.log(rate)\n",
        "    G.add_edge(src, dst, rate=rate, weight=weight)\n",
        "\n",
        "def canonical_cycle(cycle):\n",
        "    cycle = cycle[:]\n",
        "    n = len(cycle)\n",
        "    rotations = [tuple(cycle[i:] + cycle[:i]) for i in range(n)]\n",
        "    reversed_cycle = list(reversed(cycle))\n",
        "    rotations += [tuple(reversed_cycle[i:] + reversed_cycle[:i]) for i in range(n)]\n",
        "    return min(rotations)\n",
        "\n",
        "##Get all cycles\n",
        "all_cycles = list(nx.simple_cycles(G))\n",
        "\n",
        "##Get unique cycles\n",
        "unique_cycles = set()\n",
        "for cycle in all_cycles:\n",
        "    if len(cycle) < 2:\n",
        "        continue\n",
        "    canon = canonical_cycle(cycle)\n",
        "    unique_cycles.add(canon)\n",
        "\n",
        "print(\"Unique cycles and their arbitrage analysis:\")\n",
        "for cycle in unique_cycles:\n",
        "    cycle_complete = list(cycle) + [cycle[0]]\n",
        "    product = 1\n",
        "    for i in range(len(cycle_complete) - 1):\n",
        "        src = cycle_complete[i]\n",
        "        dst = cycle_complete[i + 1]\n",
        "        product *= G[src][dst][\"rate\"]\n",
        "    print(f\"Cycle: {cycle_complete}, Product: {product:.10f}\")\n",
        "    if product > 1:\n",
        "        print(\"  --> Arbitrage opportunity detected!\")\n"
      ],
      "metadata": {
        "colab": {
          "base_uri": "https://localhost:8080/"
        },
        "id": "UzptYKdQ4o82",
        "outputId": "415edb42-0a34-4be6-dfb6-9e3809869764"
      },
      "execution_count": null,
      "outputs": [
        {
          "output_type": "stream",
          "name": "stdout",
          "text": [
            "Unique cycles and their arbitrage analysis:\n",
            "Cycle: ['EUR', 'GBP', 'USD', 'EUR'], Product: 1.0315444820\n",
            "  --> Arbitrage opportunity detected!\n",
            "Cycle: ['CAD', 'EUR', 'GBP', 'CAD'], Product: 1.0001392824\n",
            "  --> Arbitrage opportunity detected!\n",
            "Cycle: ['CAD', 'GBP', 'USD', 'CAD'], Product: 1.0314161920\n",
            "  --> Arbitrage opportunity detected!\n",
            "Cycle: ['EUR', 'GBP', 'EUR'], Product: 1.0000024900\n",
            "  --> Arbitrage opportunity detected!\n",
            "Cycle: ['CAD', 'GBP', 'EUR', 'USD', 'CAD'], Product: 0.9998353280\n",
            "Cycle: ['GBP', 'USD', 'GBP'], Product: 1.0000205500\n",
            "  --> Arbitrage opportunity detected!\n",
            "Cycle: ['CAD', 'GBP', 'CAD'], Product: 1.0000704000\n",
            "  --> Arbitrage opportunity detected!\n",
            "Cycle: ['CAD', 'EUR', 'USD', 'CAD'], Product: 0.9999017045\n",
            "Cycle: ['EUR', 'USD', 'EUR'], Product: 0.9999572000\n",
            "Cycle: ['CAD', 'EUR', 'GBP', 'USD', 'CAD'], Product: 1.0314872334\n",
            "  --> Arbitrage opportunity detected!\n",
            "Cycle: ['CAD', 'EUR', 'CAD'], Product: 1.0000425000\n",
            "  --> Arbitrage opportunity detected!\n",
            "Cycle: ['CAD', 'USD', 'CAD'], Product: 1.0000432200\n",
            "  --> Arbitrage opportunity detected!\n",
            "Cycle: ['CAD', 'EUR', 'USD', 'GBP', 'CAD'], Product: 0.9695335935\n"
          ]
        }
      ]
    },
    {
      "cell_type": "markdown",
      "source": [
        "### **Futures with dividends**"
      ],
      "metadata": {
        "id": "vkPheKXJ4od3"
      }
    },
    {
      "cell_type": "code",
      "source": [
        "import numpy as np\n",
        "import pandas as pd\n",
        "\n",
        "##Dictionary of data\n",
        "data = {\n",
        "    \"Stock\": [\"BP Plc\", \"Shell Plc\", \"Chevron Corp\", \"Exxon Mobil Corp\"],\n",
        "    \"Current Value (GBX)\": [4.49, 27.72, 126.62, 90.53],\n",
        "    \"Dividend (GBX)\": [0.63, 2.25, 4.19, 2.62],\n",
        "    \"Forward Strike Price (GBX)\": [3.34, 23.96, 121.81, 87.85],\n",
        "}\n",
        "\n",
        "r = 0.0492\n",
        "T = 7 / 12\n",
        "t_dividends = [2/12, 5/12]\n",
        "\n",
        "\n",
        "##Functions\n",
        "def present_value_dividends(dividend, r, t_dividends):\n",
        "    return sum(dividend * np.exp(-r * t) for t in t_dividends)\n",
        "\n",
        "def theoretical_forward_price(S0, PV_dividends, r, T):\n",
        "    return (S0 - PV_dividends) * np.exp(r * T)\n",
        "\n",
        "df = pd.DataFrame(data)\n",
        "df[\"Sum of Present Value Dividends (GBX)\"] = df[\"Dividend (GBX)\"].apply(\n",
        "    lambda D: present_value_dividends(D, r, t_dividends)\n",
        ")\n",
        "df[\"Theoretical Forward Price (GBX)\"] = df.apply(\n",
        "    lambda row: theoretical_forward_price(row[\"Current Value (GBX)\"], row[\"Sum of Present Value Dividends (GBX)\"], r, T),\n",
        "    axis=1\n",
        ")\n",
        "\n",
        "df.to_csv(\"futures_arbitrage_report.csv\", index=False)\n",
        "df.to_latex(\"futures_arbitrage_report.tex\", index=False)\n",
        "print(df.to_markdown(index=False))"
      ],
      "metadata": {
        "colab": {
          "base_uri": "https://localhost:8080/"
        },
        "id": "AW-2za4kJwjA",
        "outputId": "71510a63-f72a-426f-9efc-b79b25e96e80"
      },
      "execution_count": 1,
      "outputs": [
        {
          "output_type": "stream",
          "name": "stdout",
          "text": [
            "| Stock            |   Current Value (GBX) |   Dividend (GBX) |   Forward Strike Price (GBX) |   Sum of Present Value Dividends (GBX) |   Theoretical Forward Price (GBX) |\n",
            "|:-----------------|----------------------:|-----------------:|-----------------------------:|---------------------------------------:|----------------------------------:|\n",
            "| BP Plc           |                  4.49 |             0.63 |                         3.34 |                                1.24207 |                           3.34249 |\n",
            "| Shell Plc        |                 27.72 |             2.25 |                        23.96 |                                4.43597 |                          23.962   |\n",
            "| Chevron Corp     |                126.62 |             4.19 |                       121.81 |                                8.26076 |                         121.805   |\n",
            "| Exxon Mobil Corp |                 90.53 |             2.62 |                        87.85 |                                5.16544 |                          87.85    |\n"
          ]
        }
      ]
    },
    {
      "cell_type": "markdown",
      "source": [
        "### **Futures with Cost of Carry**"
      ],
      "metadata": {
        "id": "s_44Jl6PB_pr"
      }
    },
    {
      "cell_type": "code",
      "source": [
        "import numpy as np\n",
        "import pandas as pd\n",
        "\n",
        "##Dictionary of data\n",
        "data = {\n",
        "    \"Stock\": [\"Gold\", \"Silver\", \"Platinum\", \"Copper\"],\n",
        "    \"Current Value (GBP/Oz)\": [2990.26, 33.90, 1069.77, 4.65],\n",
        "    \"Cost of Carry (GBP/Oz)\": [125.58, 2.09, 52.33, 0.31],\n",
        "    \"Forward Strike Price (GBP/Oz)\": [3217.62, 37.15, 1158.64, 5.12],\n",
        "}\n",
        "\n",
        "\n",
        "r = 0.0492\n",
        "T = 8 / 12\n",
        "payment_times = [4/12]\n",
        "\n",
        "def present_value_storage_costs(storage_cost, r, payment_times):\n",
        "    return sum(storage_cost * np.exp(-r * t) for t in payment_times)\n",
        "\n",
        "def theoretical_forward_price(S0, storage_costs_PV, r, T):\n",
        "    return (S0 + storage_costs_PV) * np.exp(r * T)\n",
        "\n",
        "df = pd.DataFrame(data)\n",
        "df[\"Total Storage Cost (GBP/Oz) PV\"] = df[\"Cost of Carry (GBP/Oz)\"].apply(\n",
        "    lambda U: present_value_storage_costs(U, r, payment_times)\n",
        ")\n",
        "df[\"Theoretical Forward Price (GBP/Oz)\"] = df.apply(\n",
        "    lambda row: theoretical_forward_price(row[\"Current Value (GBP/Oz)\"],\n",
        "                                            row[\"Total Storage Cost (GBP/Oz) PV\"],\n",
        "                                            r, T),\n",
        "    axis=1\n",
        ")\n",
        "df[\"Profit (GBP/Oz)\"] = df[\"Theoretical Forward Price (GBP/Oz)\"] - df[\"Forward Strike Price (GBP/Oz)\"]\n",
        "df[\"Total profit\"] = np.floor(10000 / (df[\"Current Value (GBP/Oz)\"]+df['Total Storage Cost (GBP/Oz) PV']))  * df[\"Profit (GBP/Oz)\"]\n",
        "\n",
        "df.to_csv(\"futures_carry_report.csv\", index=False)\n",
        "df.to_latex(\"futures_carry_report.tex\", index=False)\n",
        "print(df.to_markdown(index=False))\n"
      ],
      "metadata": {
        "colab": {
          "base_uri": "https://localhost:8080/"
        },
        "id": "ZTVRs99RCa7W",
        "outputId": "2602060c-97ff-4861-c8af-be481af764ca"
      },
      "execution_count": null,
      "outputs": [
        {
          "output_type": "stream",
          "name": "stdout",
          "text": [
            "| Stock    |   Current Value (GBP/Oz) |   Cost of Carry (GBP/Oz) |   Forward Strike Price (GBP/Oz) |   Total Storage Cost (GBP/Oz) PV |   Theoretical Forward Price (GBP/Oz) |   Profit (GBP/Oz) |   Total profit |\n",
            "|:---------|-------------------------:|-------------------------:|--------------------------------:|---------------------------------:|-------------------------------------:|------------------:|---------------:|\n",
            "| Gold     |                  2990.26 |                   125.58 |                         3217.62 |                       123.537    |                           3217.62    |       0.00327301  |     0.00981903 |\n",
            "| Silver   |                    33.9  |                     2.09 |                           37.15 |                         2.056    |                             37.1549  |       0.00491511  |     1.3664     |\n",
            "| Platinum |                  1069.77 |                    52.33 |                         1158.64 |                        51.4788   |                           1158.64    |      -0.00446183  |    -0.0356946  |\n",
            "| Copper   |                     4.65 |                     0.31 |                            5.12 |                         0.304957 |                              5.12017 |       0.000174819 |     0.352785   |\n"
          ]
        }
      ]
    },
    {
      "cell_type": "markdown",
      "source": [
        "### **Options Strategy**"
      ],
      "metadata": {
        "id": "5MGSiHTWdLsX"
      }
    },
    {
      "cell_type": "code",
      "source": [
        "import numpy as np\n",
        "import pandas as pd\n",
        "\n",
        "##Dictionary of data\n",
        "data = {\n",
        "    \"Stock\": [\"Astrazeneca\", \"GSK\", \"J&J\", \"Pfizer\"],\n",
        "    \"Current Price (S)\": [123.89, 1548.35, 128.97, 4.63],\n",
        "    \"Call Premium (C)\": [713.17, 850.14, 72.91, 0.29],\n",
        "    \"Put Premium (P)\": [716.40, 928.88, 84.95, 0.74],\n",
        "    \"Strike Price (X)\": [130.82, 1674.46, 141.28, 5.23]\n",
        "}\n",
        "\n",
        "df = pd.DataFrame(data)\n",
        "\n",
        "r = 0.0492\n",
        "T = 7 / 12\n",
        "discount_factor = np.exp(-r * T)\n",
        "\n",
        "def check_arbitrage(row):\n",
        "    S = row[\"Current Price (S)\"]\n",
        "    C = row[\"Call Premium (C)\"]\n",
        "    P = row[\"Put Premium (P)\"]\n",
        "    X = row[\"Strike Price (X)\"]\n",
        "\n",
        "    lhs = C + (X * discount_factor)\n",
        "    rhs = S + P\n",
        "    discrepancy = lhs - rhs\n",
        "\n",
        "    profit = abs(discrepancy) * np.exp(r * T)\n",
        "\n",
        "    return pd.Series([lhs, rhs, discrepancy, profit],\n",
        "                     index=[\"LHS (C+Xe^(-rT))\", \"RHS (S+P))\", \"Discrepancy\", \"Profit\"])\n",
        "\n",
        "df = df.join(df.apply(check_arbitrage, axis=1))\n",
        "\n",
        "df.to_csv(\"options_report.csv\", index=False)\n",
        "df.to_latex(\"options_report.tex\", index=False)\n",
        "print(df.to_markdown(index=False))\n"
      ],
      "metadata": {
        "colab": {
          "base_uri": "https://localhost:8080/"
        },
        "id": "iWzfA-u3L2RF",
        "outputId": "04e91fdf-21fb-4bf2-aa33-b0c0cf245f83"
      },
      "execution_count": null,
      "outputs": [
        {
          "output_type": "stream",
          "name": "stdout",
          "text": [
            "| Stock       |   Current Price (S) |   Call Premium (C) |   Put Premium (P) |   Strike Price (X) |   LHS (C+Xe^(-rT)) |   RHS (S+P)) |   Discrepancy |     Profit |\n",
            "|:------------|--------------------:|-------------------:|------------------:|-------------------:|-------------------:|-------------:|--------------:|-----------:|\n",
            "| Astrazeneca |              123.89 |             713.17 |            716.4  |             130.82 |          840.289   |       840.29 |   -0.00116819 | 0.0012022  |\n",
            "| GSK         |             1548.35 |             850.14 |            928.88 |            1674.46 |         2477.23    |      2477.23 |   -0.0039343  | 0.00404885 |\n",
            "| J&J         |              128.97 |              72.91 |             84.95 |             141.28 |          210.193   |       213.92 |   -3.7271     | 3.83562    |\n",
            "| Pfizer      |                4.63 |               0.29 |              0.74 |               5.23 |            5.37203 |         5.37 |    0.00203249 | 0.00209167 |\n"
          ]
        }
      ]
    }
  ]
}